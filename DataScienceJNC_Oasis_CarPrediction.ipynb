{
  "nbformat": 4,
  "nbformat_minor": 0,
  "metadata": {
    "colab": {
      "provenance": [],
      "authorship_tag": "ABX9TyNy9YjSP6Zz8muwKmaJubeP",
      "include_colab_link": true
    },
    "kernelspec": {
      "name": "python3",
      "display_name": "Python 3"
    },
    "language_info": {
      "name": "python"
    }
  },
  "cells": [
    {
      "cell_type": "markdown",
      "metadata": {
        "id": "view-in-github",
        "colab_type": "text"
      },
      "source": [
        "<a href=\"https://colab.research.google.com/github/JitendraNathChandra/Data_Science_JNC_Oasis_Infobyte/blob/main/DataScienceJNC_Oasis_CarPrediction.ipynb\" target=\"_parent\"><img src=\"https://colab.research.google.com/assets/colab-badge.svg\" alt=\"Open In Colab\"/></a>"
      ]
    },
    {
      "cell_type": "markdown",
      "source": [
        "#  **Name: Jitendra Nath Chandra**\n",
        " Registration No: OIB/L2/IP11376"
      ],
      "metadata": {
        "id": "LYK9ExUB_m-P"
      }
    },
    {
      "cell_type": "markdown",
      "source": [
        "*Oasis Infobyte Internship 2023*"
      ],
      "metadata": {
        "id": "dIPURTWh_922"
      }
    },
    {
      "cell_type": "markdown",
      "source": [
        "# Task no: 3  CAR PRICE PREDICTION WITH MACHINE LEARNING"
      ],
      "metadata": {
        "id": "8Dk6rqiNAJ1m"
      }
    },
    {
      "cell_type": "markdown",
      "source": [
        "**About:** *The price of a car depends on a lot of factors like the goodwill of the brand of the car,features of the car, horsepower and the mileage it gives and many more. Car price prediction is one of the major research areas in machine learning. So if you want to learn how to train a car price prediction model then this project is for you.*"
      ],
      "metadata": {
        "id": "KRdsrM0pKfle"
      }
    },
    {
      "cell_type": "code",
      "source": [
        "#Importing Required Libraries\n",
        "\n",
        "import pandas as pd\n",
        "import matplotlib.pyplot as plt\n",
        "import seaborn as sb\n",
        "from sklearn.model_selection import train_test_split\n",
        "from sklearn.linear_model import LinearRegression\n",
        "from sklearn.linear_model import Lasso"
      ],
      "metadata": {
        "id": "VnsGl6I6K-h0"
      },
      "execution_count": 2,
      "outputs": []
    },
    {
      "cell_type": "code",
      "source": [],
      "metadata": {
        "id": "wHOro2ImU-E_"
      },
      "execution_count": null,
      "outputs": []
    }
  ]
}